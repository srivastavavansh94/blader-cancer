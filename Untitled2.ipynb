{
  "nbformat": 4,
  "nbformat_minor": 0,
  "metadata": {
    "colab": {
      "provenance": [],
      "mount_file_id": "19M6B1Az_8qSVdy9Kz7zZOgP6j00vJjDg",
      "authorship_tag": "ABX9TyOGAcjMgTC+Q1aXg8tA/z3g",
      "include_colab_link": true
    },
    "kernelspec": {
      "name": "python3",
      "display_name": "Python 3"
    },
    "language_info": {
      "name": "python"
    }
  },
  "cells": [
    {
      "cell_type": "markdown",
      "metadata": {
        "id": "view-in-github",
        "colab_type": "text"
      },
      "source": [
        "<a href=\"https://colab.research.google.com/github/srivastavavansh94/blader-cancer/blob/main/Untitled2.ipynb\" target=\"_parent\"><img src=\"https://colab.research.google.com/assets/colab-badge.svg\" alt=\"Open In Colab\"/></a>"
      ]
    },
    {
      "cell_type": "markdown",
      "source": [
        "UNZIPPING THE FILE "
      ],
      "metadata": {
        "id": "DOeufbUeH7vk"
      }
    },
    {
      "cell_type": "code",
      "source": [
        "import zipfile\n",
        "\n",
        "# Define path to the ZIP file in Google Drive\n",
        "zip_path = '/content/drive/MyDrive/archive.zip'\n",
        "\n",
        "# Define path to the destination folder for extracted files\n",
        "destination_path = '/content/drive/MyDrive/d/Data'\n",
        "\n",
        "# Open the ZIP file and extract its contents to the destination folder\n",
        "with zipfile.ZipFile(zip_path, 'r') as zip_ref:\n",
        "    zip_ref.extractall(destination_path)\n"
      ],
      "metadata": {
        "id": "aJTTQJpBD4jL"
      },
      "execution_count": null,
      "outputs": []
    },
    {
      "cell_type": "markdown",
      "source": [
        "IMPORTING THE LIBRARIES"
      ],
      "metadata": {
        "id": "Xar_97EPIAY2"
      }
    },
    {
      "cell_type": "code",
      "execution_count": null,
      "metadata": {
        "id": "ro_q5_pjVNhy"
      },
      "outputs": [],
      "source": [
        "import numpy as np\n",
        "import matplotlib.pyplot as plt\n",
        "import tensorflow as tf\n",
        "from keras import Sequential\n",
        "from os import listdir \n",
        "from google.colab.patches import cv2_imshow\n",
        "from tensorflow.keras.layers import Conv2D , BatchNormalization , ZeroPadding2D , MaxPooling2D , Flatten , Dense , Activation , Dropout\n",
        "from tensorflow.keras.models import Model , load_model\n",
        "import imutils\n",
        "import cv2"
      ]
    },
    {
      "cell_type": "markdown",
      "source": [
        "FOR CROPPING THE IMAGE "
      ],
      "metadata": {
        "id": "_KmgZ8aEIDoC"
      }
    },
    {
      "cell_type": "code",
      "source": [
        "def CropImage(img , plot=False):\n",
        "\n",
        "  #  for file in listdir:\n",
        "\n",
        "      gray = cv2.cvtColor(img , cv2.COLOR_BGR2GRAY)\n",
        "      gray = cv2.GaussianBlur(gray , (5,5),0)\n",
        "\n",
        "      \n",
        "      thresh = cv2.threshold(gray , 45 , 255 , cv2.THRESH_BINARY)[1]\n",
        "      thresh = cv2.erode(thresh , None , iterations=2)\n",
        "      thresh = cv2.dilate(thresh , None ,  iterations=2)\n",
        "\n",
        "      new_img=thresh\n",
        "\n",
        "      contour = cv2.findContours(thresh, cv2.RETR_EXTERNAL, cv2.CHAIN_APPROX_SIMPLE)\n",
        "      contour = imutils.grab_contours(contour)\n",
        "      c = max(contour, key=cv2.contourArea)\n",
        "      \n",
        "\n",
        "      if plt :\n",
        "        plt.figure()\n",
        "\n",
        "        plt.subplot(1,2,1)\n",
        "        plt.imshow(img)\n",
        "        plt.tick_params(axis='both',which='both',\n",
        "                        top=False,bottom=False,left=False,right=False,\n",
        "                        labelbottom=False,labeltop=False,labelleft=False,labelright=False)\n",
        "        plt.title('original image')\n",
        "\n",
        "        plt.subplot(1,2,2)\n",
        "        plt.imshow(new_img)\n",
        "        plt.tick_params(axis='both',which='both',\n",
        "                        top=False,bottom=False,left=False,right=False,\n",
        "                        labelbottom=False,labeltop=False,labelleft=False,labelright=False)\n",
        "        \n",
        "        \n",
        "        plt.title('cropped image')\n",
        "        plt.show()\n",
        "\n",
        "        return new_img\n"
      ],
      "metadata": {
        "id": "qBTiA8BnxOmO"
      },
      "execution_count": null,
      "outputs": []
    },
    {
      "cell_type": "markdown",
      "source": [
        "PREPROCESSING THE DATA"
      ],
      "metadata": {
        "id": "WtlkkkvKIKOy"
      }
    },
    {
      "cell_type": "code",
      "source": [
        "from keras.preprocessing.image import ImageDataGenerator\n",
        "\n",
        "def preprocessing(path):\n",
        "  data_gen = ImageDataGenerator(\n",
        "    rotation_range=10,\n",
        "    zoom_range=0.10,\n",
        "    horizontal_flip=True,\n",
        "    fill_mode='nearest',\n",
        "    height_shift_range=0.1\n",
        ")\n",
        "  data=data_gen.flow_from_directory(directory=path,target_size=(224,224),batch_size=16,class_mode='binary')"
      ],
      "metadata": {
        "id": "mcAPQjf91pvl"
      },
      "execution_count": null,
      "outputs": []
    },
    {
      "cell_type": "code",
      "source": [
        "path=\"/content/drive/MyDrive/d/Data/Bladder Cancer Patients MRI's/train\"\n",
        "preprocessing(path)"
      ],
      "metadata": {
        "id": "xrOFCnVHUItm"
      },
      "execution_count": null,
      "outputs": []
    },
    {
      "cell_type": "markdown",
      "source": [
        "Traversing through the folder ( not important)"
      ],
      "metadata": {
        "id": "Jpo6uYDQU_vG"
      }
    },
    {
      "cell_type": "code",
      "source": [
        "import os\n",
        "\n",
        "path=\"/content/drive/MyDrive/d/Data/Bladder Cancer Patients MRI's/train\"\n",
        "no_of_img={}\n",
        "for file in listdir(path):\n",
        "  no_of_img[file] = len(listdir(os.path.join(path,file))) \n",
        "\n",
        "no_of_img.items()"
      ],
      "metadata": {
        "id": "8Klib9pLMd12"
      },
      "execution_count": null,
      "outputs": []
    },
    {
      "cell_type": "markdown",
      "source": [
        "LOADING THE DATA , CALLING CROP FUNC , RESIZING & NORMALIZING"
      ],
      "metadata": {
        "id": "DgdOJCUFV26P"
      }
    },
    {
      "cell_type": "code",
      "source": [
        "import pandas as pd\n",
        "import os\n",
        "from os import listdir\n",
        "import cv2\n",
        "import numpy as np\n",
        "X=[]\n",
        "Y=[]\n",
        "image_size=(240,240)\n",
        "path1=[\"/content/drive/MyDrive/d/Data/Bladder Cancer Patients MRI's/train/Healthy\",\"/content/drive/MyDrive/d/Data/Bladder Cancer Patients MRI's/train/Sick\"]\n",
        "image_width,image_height=image_size\n",
        "  \n",
        "\n",
        "for file in path1:\n",
        "  for filename in listdir(file):\n",
        "      image=cv2.imread(os.path.join(file,filename))\n",
        "      image = cv2.resize(image,dsize=(image_width,image_height),interpolation=cv2.INTER_CUBIC)\n",
        "      image=image/255\n",
        "      X.append(image)\n",
        "\n",
        "      if filename[0:1:1]=='S':\n",
        "        Y.append([1])\n",
        "      else:\n",
        "        Y.append([0])\n",
        "\n",
        "X=np.array(X)\n",
        "Y=np.array(Y)\n",
        "\n",
        "print(f'the length is : {len(X)}')\n",
        "print(f'the shape of X is : {X.shape}')\n",
        "print(f'the shape of Y is : {Y.shape}')\n",
        "# for item in X\n",
        "# return X,Y"
      ],
      "metadata": {
        "id": "en26shTGRv10"
      },
      "execution_count": null,
      "outputs": []
    },
    {
      "cell_type": "code",
      "source": [
        "import matplotlib.pyplot as plt"
      ],
      "metadata": {
        "id": "2lC8Id0XehIR"
      },
      "execution_count": null,
      "outputs": []
    },
    {
      "cell_type": "markdown",
      "source": [
        "PLOTTING THE SAMPLE IMAGES"
      ],
      "metadata": {
        "id": "wLe3qj9sfff-"
      }
    },
    {
      "cell_type": "code",
      "source": [
        "def plot_sample_img(X,Y,n):\n",
        "  for label in [0,1]:\n",
        "        images = X[np.argwhere(Y == label)]\n",
        "        n_images = images[:n]\n",
        "        \n",
        "        columns_n = 10\n",
        "        rows_n = int(n/ columns_n)\n",
        "\n",
        "        plt.figure(figsize=(20, 10))\n",
        "        \n",
        "        i = 1 # current plot        \n",
        "        for image in n_images:\n",
        "            plt.subplot(rows_n, columns_n, i)\n",
        "            plt.imshow(image[0])\n",
        "            \n",
        "            # remove ticks\n",
        "            plt.tick_params(axis='both', which='both', \n",
        "                            top=False, bottom=False, left=False, right=False,\n",
        "                           labelbottom=False, labeltop=False, labelleft=False, labelright=False)\n",
        "            \n",
        "            i += 1\n",
        "        \n",
        "        label_to_str = lambda label: \"Yes\" if label == 1 else \"No\"\n",
        "        plt.suptitle(f\"Brain Tumor: {label_to_str(label)}\")\n",
        "        plt.show()"
      ],
      "metadata": {
        "id": "f7SzEC_Lgmow"
      },
      "execution_count": null,
      "outputs": []
    },
    {
      "cell_type": "code",
      "source": [
        "plot_sample_img(X,Y,10)"
      ],
      "metadata": {
        "id": "IPfJZjVZnU6q"
      },
      "execution_count": null,
      "outputs": []
    },
    {
      "cell_type": "code",
      "source": [
        "def hms_string(sec_elapsed):\n",
        "  h = int(sec_elapsed / (60 * 60))\n",
        "  m = int((sec_elapsed % (60 * 60)) / 60)\n",
        "  s = sec_elapsed % 60\n",
        "  return f\"{h}:{m}:{round(s,1)}\""
      ],
      "metadata": {
        "id": "HxwsKoXhnblw"
      },
      "execution_count": null,
      "outputs": []
    },
    {
      "cell_type": "markdown",
      "source": [
        "SPLITTING THE DATA INTO TEST & VALIDATION"
      ],
      "metadata": {
        "id": "7OQfELqMn-C8"
      }
    },
    {
      "cell_type": "code",
      "source": [
        "# import os\n",
        "import shutil\n",
        "import random\n",
        "\n",
        "# Set the path to the validation folder\n",
        "val_dir = \"/content/drive/MyDrive/d/Data/Bladder Cancer Patients MRI's/validation\"\n",
        "\n",
        "# Set the path to the test folder\n",
        "test_dir = \"/content/drive/MyDrive/d/Data/Bladder Cancer Patients MRI's/test\"\n",
        "\n",
        "# Set the validation split ratio (e.g. 0.2 for 20% validation set)\n",
        "val_split = 0.5\n",
        "\n",
        "# Loop over each class subfolder in the validation folder\n",
        "for class_name in os.listdir(val_dir):\n",
        "    class_dir = os.path.join(val_dir, class_name)\n",
        "    if os.path.isdir(class_dir):\n",
        "        # Get the list of image files in the class subfolder\n",
        "        files = os.listdir(class_dir)\n",
        "        # Shuffle the list of files\n",
        "        random.shuffle(files)\n",
        "        # Calculate the number of validation and test files based on the validation split ratio\n",
        "        num_val = int(len(files) * val_split)\n",
        "        num_test = len(files) - num_val\n",
        "        # Create the test folder for this class if it doesn't exist\n",
        "        class_test_dir = os.path.join(test_dir, class_name)\n",
        "        if not os.path.exists(class_test_dir):\n",
        "            os.makedirs(class_test_dir)\n",
        "        # Move the first num_test files to the test folder\n",
        "        for file_name in files[:num_test]:\n",
        "            src = os.path.join(class_dir, file_name)\n",
        "            dst = os.path.join(class_test_dir, file_name)\n",
        "            shutil.move(src, dst)\n",
        "        # Move the remaining num_val files to the original class subfolder for validation\n",
        "        for file_name in files[num_test:]:\n",
        "            src = os.path.join(class_dir, file_name)\n",
        "            dst = os.path.join(class_dir, file_name)\n",
        "            shutil.move(src, dst)\n"
      ],
      "metadata": {
        "id": "iKGPGBEPmGHO"
      },
      "execution_count": null,
      "outputs": []
    },
    {
      "cell_type": "code",
      "source": [
        "path2=\"/content/drive/MyDrive/d/Data/Bladder Cancer Patients MRI's/test/Healthy\"\n",
        "count=0\n",
        "for file in listdir(path2):\n",
        "  count+=1\n",
        "count"
      ],
      "metadata": {
        "colab": {
          "base_uri": "https://localhost:8080/"
        },
        "id": "5yaF0s7znsy9",
        "outputId": "1e1c84af-f6f7-4328-f821-82e0ca5722b3"
      },
      "execution_count": null,
      "outputs": [
        {
          "output_type": "execute_result",
          "data": {
            "text/plain": [
              "30"
            ]
          },
          "metadata": {},
          "execution_count": 20
        }
      ]
    },
    {
      "cell_type": "markdown",
      "source": [
        "BUILDING THE CNN MODEL"
      ],
      "metadata": {
        "id": "0sodgKZupzU6"
      }
    },
    {
      "cell_type": "code",
      "source": [
        "def build_model(img_shape):\n",
        "  model=Sequential()\n",
        "\n",
        "  model.add(Conv2D(filters=16 , kernel_size=(3,3) , activation='relu' , input_shape=(img_shape)))\n",
        "\n",
        "  model.add(Conv2D(activation = 'relu', kernel_size=(3,3), filters=16 ))\n",
        "  model.add(MaxPooling2D(pool_size=(2,2)))\n",
        "\n",
        "  model.add(Conv2D(activation='relu', kernel_size=(3,3), filters=64 ))\n",
        "  model.add(MaxPooling2D(pool_size=(2,2)))\n",
        "\n",
        "  model.add(Conv2D(activation='relu', kernel_size=(3,3) , filters=128 ))\n",
        "  model.add(MaxPooling2D(pool_size=(2,2)))\n",
        "\n",
        "  model.add(Dropout(rate=0.25))\n",
        "\n",
        "  model.add(Flatten())\n",
        "\n",
        "  model.add(Dense(units=64 , activation='relu'))\n",
        "\n",
        "  model.add(Dropout(rate=0.25))\n",
        "\n",
        "  model.add(Dense(units=1 , activation='sigmoid'))\n",
        "\n",
        "  return model\n"
      ],
      "metadata": {
        "id": "lE-IZk4grvnl"
      },
      "execution_count": null,
      "outputs": []
    },
    {
      "cell_type": "code",
      "source": [
        "img_shape=(224,224,3)\n",
        "model=build_model(img_shape)\n"
      ],
      "metadata": {
        "id": "76dz9_z6H7pl"
      },
      "execution_count": null,
      "outputs": []
    },
    {
      "cell_type": "code",
      "source": [
        "model.summary()"
      ],
      "metadata": {
        "colab": {
          "base_uri": "https://localhost:8080/"
        },
        "id": "kUso9sKUICjV",
        "outputId": "0c86116c-a0f5-4acb-c687-827b8a7160d7"
      },
      "execution_count": null,
      "outputs": [
        {
          "output_type": "stream",
          "name": "stdout",
          "text": [
            "Model: \"sequential_1\"\n",
            "_________________________________________________________________\n",
            " Layer (type)                Output Shape              Param #   \n",
            "=================================================================\n",
            " conv2d_4 (Conv2D)           (None, 222, 222, 16)      448       \n",
            "                                                                 \n",
            " conv2d_5 (Conv2D)           (None, 220, 220, 16)      2320      \n",
            "                                                                 \n",
            " max_pooling2d_3 (MaxPooling  (None, 110, 110, 16)     0         \n",
            " 2D)                                                             \n",
            "                                                                 \n",
            " conv2d_6 (Conv2D)           (None, 108, 108, 64)      9280      \n",
            "                                                                 \n",
            " max_pooling2d_4 (MaxPooling  (None, 54, 54, 64)       0         \n",
            " 2D)                                                             \n",
            "                                                                 \n",
            " conv2d_7 (Conv2D)           (None, 52, 52, 128)       73856     \n",
            "                                                                 \n",
            " max_pooling2d_5 (MaxPooling  (None, 26, 26, 128)      0         \n",
            " 2D)                                                             \n",
            "                                                                 \n",
            " dropout_2 (Dropout)         (None, 26, 26, 128)       0         \n",
            "                                                                 \n",
            " flatten_1 (Flatten)         (None, 86528)             0         \n",
            "                                                                 \n",
            " dense_2 (Dense)             (None, 64)                5537856   \n",
            "                                                                 \n",
            " dropout_3 (Dropout)         (None, 64)                0         \n",
            "                                                                 \n",
            " dense_3 (Dense)             (None, 1)                 65        \n",
            "                                                                 \n",
            "=================================================================\n",
            "Total params: 5,623,825\n",
            "Trainable params: 5,623,825\n",
            "Non-trainable params: 0\n",
            "_________________________________________________________________\n"
          ]
        }
      ]
    },
    {
      "cell_type": "code",
      "source": [
        "model.compile(optimizer='adam',loss='binary_crossentropy', metrics=['accuracy'])"
      ],
      "metadata": {
        "id": "tazjqHZXRzQ3"
      },
      "execution_count": null,
      "outputs": []
    },
    {
      "cell_type": "code",
      "source": [
        "import time"
      ],
      "metadata": {
        "id": "Gr6fkOcbLcx3"
      },
      "execution_count": null,
      "outputs": []
    },
    {
      "cell_type": "code",
      "source": [
        "# tensorboard\n",
        "log_file_name = f'brain_tumor_detection_cnn_{int(time.time())}'\n",
        "tensorboard = TensorBoard(log_dir=f'logs/{log_file_name}')"
      ],
      "metadata": {
        "id": "4y490SJJIRyY"
      },
      "execution_count": null,
      "outputs": []
    },
    {
      "cell_type": "code",
      "source": [
        "import os \n",
        "from os import listdir\n",
        "import cv2\n",
        "import numpy as np\n",
        "X=[]\n",
        "Y=[]\n",
        "path=[\"/content/drive/MyDrive/d/Data/Bladder Cancer Patients MRI's/train/Healthy\",\"/content/drive/MyDrive/d/Data/Bladder Cancer Patients MRI's/train/Sick\"]\n",
        "image_size=(240,240)\n",
        "image_width,image_height=image_size\n",
        "for file in path:\n",
        "  for filename in listdir(file):\n",
        "    image = cv2.imread(os.path.join(file,filename))\n",
        "    if image is None:\n",
        "      continue\n",
        "    else :\n",
        "      image = cv2.resize(image,dsize=(image_width,image_height),interpolation=cv2.INTER_CUBIC)\n",
        "      image=image/255\n",
        "      X.append(image)\n",
        "\n",
        "    if filename[0:1:1]=='S':\n",
        "      Y.append([1])\n",
        "    else:\n",
        "      Y.append([0])\n",
        "\n",
        "X=np.array(X)\n",
        "Y=np.array(Y)\n",
        "\n",
        "print(f'the length is : {len(X)}')\n",
        "print(f'the shape of X is : {X.shape}')\n",
        "print(f'the shape of Y is : {Y.shape}')"
      ],
      "metadata": {
        "id": "wyICzFCWaM-E"
      },
      "execution_count": null,
      "outputs": []
    },
    {
      "cell_type": "code",
      "source": [
        "import numpy as np\n",
        "import cv2\n",
        "import os \n",
        "from keras.preprocessing.image import ImageDataGenerator"
      ],
      "metadata": {
        "id": "ceg3JdjLzqoR"
      },
      "execution_count": null,
      "outputs": []
    },
    {
      "cell_type": "code",
      "source": [
        "path=\"/content/drive/MyDrive/d/Data/Bladder Cancer Patients MRI's/test\"\n",
        "data_gen_valid = ImageDataGenerator(\n",
        "    rotation_range=10,\n",
        "    # zoom_range=0.10,\n",
        "    horizontal_flip=True,\n",
        "    fill_mode='nearest',\n",
        "    height_shift_range=0.1\n",
        ")\n",
        "data_valid=data_gen_valid.flow_from_directory(directory=path,target_size=(240,240),batch_size=16,class_mode='binary')\n",
        "\n",
        "folder=\"/content/drive/MyDrive/d/Data/Bladder Cancer Patients MRI's/Untitled Folder\"\n",
        "\n",
        "for i in (0,50):\n",
        "  x_batch , y_batch = next(data_valid)\n",
        "  image = np.array(x_batch[0] * 255)\n",
        "  filename = 'augmented_image_{}.jpg'.format(i)\n",
        "  cv2.imwrite(filename, image)\n",
        "  file_path = os.path.join(folder, filename)\n"
      ],
      "metadata": {
        "id": "jDfIF7gccZ0_"
      },
      "execution_count": null,
      "outputs": []
    },
    {
      "cell_type": "code",
      "source": [],
      "metadata": {
        "id": "tTAuywgS0FHD"
      },
      "execution_count": null,
      "outputs": []
    }
  ]
}